{
 "cells": [
  {
   "cell_type": "code",
   "execution_count": 1,
   "metadata": {},
   "outputs": [],
   "source": [
    "import json, os\n",
    "from tqdm import tqdm\n",
    "from intension import Intension"
   ]
  },
  {
   "cell_type": "code",
   "execution_count": 3,
   "metadata": {},
   "outputs": [],
   "source": [
    "MODELS = [ \n",
    "    { \"model_name\": \"gpt-3.5-turbo\", \"batch_size\": 50 },\n",
    "    { \"model_name\": \"gpt-4o-2024-05-13\", \"batch_size\": 50 },\n",
    "    { \"model_name\": \"gpt-4-0125-preview\", \"batch_size\": 50 },\n",
    "    { \"model_name\": \"mistralai/Mistral-7B-Instruct-v0.3\", \"batch_size\": 50 },\n",
    "    { \"model_name\": \"claude-3-5-sonnet-20240620\", \"batch_size\": 1 },\n",
    "    { \"model_name\": \"mistralai/Mixtral-8x7B-Instruct-v0.1\", \"batch_size\": 50 },\n",
    "    { \"model_name\": \"claude-3-opus-20240229\", \"batch_size\": 1 },\n",
    "    { \"model_name\": \"meta-llama/Meta-Llama-3-70B-Instruct\", \"batch_size\": 50 },\n",
    "    { \"model_name\": \"claude-3-haiku-20240307\", \"batch_size\": 1 },\n",
    "]\n",
    "\n",
    "TREX_SAMPLE_TRIPLES = json.load(open(\"data/trex_sample_triples.json\", \"r\"))"
   ]
  },
  {
   "cell_type": "code",
   "execution_count": 4,
   "metadata": {},
   "outputs": [
    {
     "name": "stdout",
     "output_type": "stream",
     "text": [
      "gpt-3.5-turbo                       : EXISTS\n",
      "gpt-4o-2024-05-13                   : EXISTS\n",
      "gpt-4-0125-preview                  : EXISTS\n",
      "mistralai/Mistral-7B-Instruct-v0.3  : EXISTS\n",
      "claude-3-5-sonnet-20240620          : EXISTS\n",
      "mistralai/Mixtral-8x7B-Instruct-v0.1: EXISTS\n",
      "claude-3-opus-20240229              : EXISTS\n",
      "meta-llama/Meta-Llama-3-70B-Instruct: EXISTS\n",
      "claude-3-haiku-20240307             : EXISTS\n"
     ]
    }
   ],
   "source": [
    "for model in MODELS:\n",
    "    filename = f'experiments/{model[\"model_name\"].split(\"/\")[-1]}-trex.json'\n",
    "    if os.path.isfile(filename):\n",
    "        print(f'{model[\"model_name\"]:36}: EXISTS')\n",
    "    else:\n",
    "        results = []\n",
    "        batches = [ TREX_SAMPLE_TRIPLES[i:i+model[\"batch_size\"]] for i in range(0, len(TREX_SAMPLE_TRIPLES), model[\"batch_size\"]) ] \n",
    "        intension = Intension(model=model[\"model_name\"])\n",
    "        for batch in tqdm(batches, desc=f'{model[\"model_name\"]:36}', total=len(batches)):\n",
    "            response = intension.chain.batch(batch)\n",
    "            for i, result in enumerate(response):\n",
    "                result[\"rationale\"] = result[\"text\"][\"rationale\"]\n",
    "                result[\"predicted\"] = result[\"text\"][\"answer\"]\n",
    "                result.pop(\"text\")\n",
    "            results.extend(response)\n",
    "        json.dump(results, open(filename, \"w+\"))"
   ]
  }
 ],
 "metadata": {
  "kernelspec": {
   "display_name": "Python 3",
   "language": "python",
   "name": "python3"
  },
  "language_info": {
   "codemirror_mode": {
    "name": "ipython",
    "version": 3
   },
   "file_extension": ".py",
   "mimetype": "text/x-python",
   "name": "python",
   "nbconvert_exporter": "python",
   "pygments_lexer": "ipython3",
   "version": "3.11.4"
  }
 },
 "nbformat": 4,
 "nbformat_minor": 2
}
