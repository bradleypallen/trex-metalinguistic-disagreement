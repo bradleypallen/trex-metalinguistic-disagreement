{
 "cells": [
  {
   "cell_type": "code",
   "execution_count": 1,
   "metadata": {},
   "outputs": [],
   "source": [
    "import json, random\n",
    "from tqdm import tqdm\n",
    "from wikidata.client import Client"
   ]
  },
  {
   "cell_type": "code",
   "execution_count": 2,
   "metadata": {},
   "outputs": [],
   "source": [
    "trex_sample = random.sample(json.load(open(\"data/TREx/re-nlg_0-10000.json\", \"r\")), 100)"
   ]
  },
  {
   "cell_type": "code",
   "execution_count": 3,
   "metadata": {},
   "outputs": [
    {
     "data": {
      "text/plain": [
       "100"
      ]
     },
     "execution_count": 3,
     "metadata": {},
     "output_type": "execute_result"
    }
   ],
   "source": [
    "len(trex_sample)"
   ]
  },
  {
   "cell_type": "code",
   "execution_count": 4,
   "metadata": {},
   "outputs": [],
   "source": [
    "def examples(doc):\n",
    "    wikidata_client = Client()\n",
    "    triple_set = set()\n",
    "    for triple in doc['triples']:\n",
    "        s = triple['subject']['uri'].rpartition('/')[-1]\n",
    "        p = triple['predicate']['uri'].rpartition('/')[-1]\n",
    "        o = triple['object']['uri'].rpartition('/')[-1]\n",
    "        if not f'{s}|{p}|{o}' in triple_set:\n",
    "            triple_set.add(f'{s}|{p}|{o}')\n",
    "            try:\n",
    "                yield {\n",
    "                    \"s_id\": s,\n",
    "                    \"s_label\": str(wikidata_client.get(s).label),\n",
    "                    \"p_id\": p,\n",
    "                    \"p_label\": str(wikidata_client.get(p).label),\n",
    "                    \"p_definition\": str(wikidata_client.get(p).description),\n",
    "                    \"o_id\": o,\n",
    "                    \"o_label\": str(wikidata_client.get(o).label),\n",
    "                    \"world\": doc[\"text\"]\n",
    "                }\n",
    "            except:\n",
    "                print(f'ERROR: {s} {p} {o}')"
   ]
  },
  {
   "cell_type": "code",
   "execution_count": 5,
   "metadata": {},
   "outputs": [
    {
     "name": "stderr",
     "output_type": "stream",
     "text": [
      "  4%|▍         | 4/100 [00:17<06:20,  3.97s/it]"
     ]
    },
    {
     "name": "stdout",
     "output_type": "stream",
     "text": [
      "ERROR: Q474235 P569 XMLSchema#dateTime\n",
      "ERROR: Q474235 P570 XMLSchema#dateTime\n"
     ]
    },
    {
     "name": "stderr",
     "output_type": "stream",
     "text": [
      " 26%|██▌       | 26/100 [02:53<05:02,  4.09s/it]"
     ]
    },
    {
     "name": "stdout",
     "output_type": "stream",
     "text": [
      "ERROR: Q157159 P569 XMLSchema#dateTime\n",
      "ERROR: Q157159 P570 XMLSchema#dateTime\n"
     ]
    },
    {
     "name": "stderr",
     "output_type": "stream",
     "text": [
      " 39%|███▉      | 39/100 [04:36<05:49,  5.73s/it]"
     ]
    },
    {
     "name": "stdout",
     "output_type": "stream",
     "text": [
      "ERROR: Q272076 P569 XMLSchema#dateTime\n"
     ]
    },
    {
     "name": "stderr",
     "output_type": "stream",
     "text": [
      " 57%|█████▋    | 57/100 [06:48<04:48,  6.72s/it]"
     ]
    },
    {
     "name": "stdout",
     "output_type": "stream",
     "text": [
      "ERROR: Q937000 P569 XMLSchema#dateTime\n",
      "ERROR: Q937000 P570 XMLSchema#dateTime\n"
     ]
    },
    {
     "name": "stderr",
     "output_type": "stream",
     "text": [
      " 59%|█████▉    | 59/100 [07:02<04:39,  6.83s/it]"
     ]
    },
    {
     "name": "stdout",
     "output_type": "stream",
     "text": [
      "ERROR: Q977656 P569 XMLSchema#dateTime\n"
     ]
    },
    {
     "name": "stderr",
     "output_type": "stream",
     "text": [
      " 60%|██████    | 60/100 [07:10<04:41,  7.03s/it]"
     ]
    },
    {
     "name": "stdout",
     "output_type": "stream",
     "text": [
      "ERROR: Q128686 P569 XMLSchema#dateTime\n",
      "ERROR: Q128686 P570 XMLSchema#dateTime\n"
     ]
    },
    {
     "name": "stderr",
     "output_type": "stream",
     "text": [
      " 62%|██████▏   | 62/100 [07:26<04:42,  7.44s/it]"
     ]
    },
    {
     "name": "stdout",
     "output_type": "stream",
     "text": [
      "ERROR: Q2060191 P569 XMLSchema#dateTime\n",
      "ERROR: Q2060191 P570 XMLSchema#dateTime\n"
     ]
    },
    {
     "name": "stderr",
     "output_type": "stream",
     "text": [
      " 88%|████████▊ | 88/100 [10:08<00:33,  2.79s/it]"
     ]
    },
    {
     "name": "stdout",
     "output_type": "stream",
     "text": [
      "ERROR: Q266694 P569 XMLSchema#dateTime\n",
      "ERROR: Q266694 P570 XMLSchema#dateTime\n"
     ]
    },
    {
     "name": "stderr",
     "output_type": "stream",
     "text": [
      " 89%|████████▉ | 89/100 [10:16<00:42,  3.87s/it]"
     ]
    },
    {
     "name": "stdout",
     "output_type": "stream",
     "text": [
      "ERROR: Q191037 P570 XMLSchema#dateTime\n"
     ]
    },
    {
     "name": "stderr",
     "output_type": "stream",
     "text": [
      "100%|██████████| 100/100 [11:16<00:00,  6.77s/it]\n"
     ]
    }
   ],
   "source": [
    "trex_sample_triples = [item for sublist in [ [ triple for triple in examples(doc) ] for doc in tqdm(trex_sample) ] for item in sublist]"
   ]
  },
  {
   "cell_type": "code",
   "execution_count": 7,
   "metadata": {},
   "outputs": [
    {
     "data": {
      "text/plain": [
       "368"
      ]
     },
     "execution_count": 7,
     "metadata": {},
     "output_type": "execute_result"
    }
   ],
   "source": [
    "len(trex_sample_triples)"
   ]
  },
  {
   "cell_type": "code",
   "execution_count": 8,
   "metadata": {},
   "outputs": [],
   "source": [
    "trex_sample_triples = random.sample(trex_sample_triples, 250)"
   ]
  },
  {
   "cell_type": "code",
   "execution_count": 9,
   "metadata": {},
   "outputs": [],
   "source": [
    "json.dump(trex_sample_triples, open('data/TREx/trex_sample_triples.json', 'w+'))"
   ]
  }
 ],
 "metadata": {
  "kernelspec": {
   "display_name": "Python 3",
   "language": "python",
   "name": "python3"
  },
  "language_info": {
   "codemirror_mode": {
    "name": "ipython",
    "version": 3
   },
   "file_extension": ".py",
   "mimetype": "text/x-python",
   "name": "python",
   "nbconvert_exporter": "python",
   "pygments_lexer": "ipython3",
   "version": "3.11.4"
  }
 },
 "nbformat": 4,
 "nbformat_minor": 2
}
